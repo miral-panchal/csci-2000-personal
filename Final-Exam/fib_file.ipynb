{
 "cells": [
  {
   "cell_type": "code",
   "execution_count": 25,
   "metadata": {
    "collapsed": false
   },
   "outputs": [
    {
     "name": "stdout",
     "output_type": "stream",
     "text": [
      "Please enter a positive integer: 6\n"
     ]
    }
   ],
   "source": [
    "\n",
    "def fib_file(n, fname):\n",
    "    #This function Finds the fibonochi sequence for a given number and prints the output to a file. \n",
    "    \n",
    "    add = '0        0\\n'\n",
    "    fname.write(add)\n",
    "    add = '1        1\\n'\n",
    "    fname.write(add)\n",
    "    \n",
    "    Fn_prev = 0\n",
    "    Fn = 1\n",
    "    \n",
    "    for i in range (2,n+1):\n",
    "        Fn_next = Fn+Fn_prev\n",
    "        \n",
    "        fname.write((str)(i))\n",
    "        fname.write('        ')\n",
    "        fname.write((str)(Fn_next))\n",
    "        fname.write('\\n')\n",
    "        \n",
    "        Fn_prev = Fn\n",
    "        Fn = Fn_next\n",
    "\n",
    "a = input('Please enter a positive integer: ')\n",
    "assert(int(a) > 0)\n",
    "\n",
    "file1= open('fname_n.txt','w')\n",
    "\n",
    "fib_file(int(a),file1)\n",
    "file1.close()"
   ]
  }
 ],
 "metadata": {
  "kernelspec": {
   "display_name": "Python 3",
   "language": "python",
   "name": "python3"
  },
  "language_info": {
   "codemirror_mode": {
    "name": "ipython",
    "version": 3
   },
   "file_extension": ".py",
   "mimetype": "text/x-python",
   "name": "python",
   "nbconvert_exporter": "python",
   "pygments_lexer": "ipython3",
   "version": "3.5.0"
  }
 },
 "nbformat": 4,
 "nbformat_minor": 0
}
