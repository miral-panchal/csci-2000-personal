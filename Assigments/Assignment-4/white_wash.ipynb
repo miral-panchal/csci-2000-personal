{
 "cells": [
  {
   "cell_type": "code",
   "execution_count": 21,
   "metadata": {
    "collapsed": false
   },
   "outputs": [
    {
     "name": "stdout",
     "output_type": "stream",
     "text": [
      "[[ 0.52224413  0.90072204  0.54511785]\n",
      " [ 0.34698456  0.16083459  0.07202283]\n",
      " [ 0.3428056   0.26099041  0.74686734]\n",
      " [ 0.09701258  0.38680411  0.31140192]\n",
      " [ 0.82657167  0.4576478   0.91498538]] \n",
      "\n",
      "[[ 0.76112206  0.95036102  0.77255892]\n",
      " [ 0.67349228  0.58041729  0.53601141]\n",
      " [ 0.6714028   0.63049521  0.87343367]\n",
      " [ 0.54850629  0.69340206  0.65570096]\n",
      " [ 0.91328584  0.7288239   0.95749269]]\n"
     ]
    }
   ],
   "source": [
    "#Miral Panchal - 100569725\n",
    "import numpy as np\n",
    "import random as rnd\n",
    "\n",
    "def WhiteWash(array):\n",
    "    #Color map for white\n",
    "    white = np.array([[1,1,1]])\n",
    "    #Adds white to color\n",
    "    array[:][:] = (np.add(array[:][:] , white)/2)\n",
    "        \n",
    "    return array\n",
    "\n",
    "#Makes array of 0s with dimensions mx3, where m = 5\n",
    "m = 5\n",
    "array = np.zeros((m, 3))    \n",
    "\n",
    "#Fills each cell with a random float from 0 to 1\n",
    "for i in range (0,m):\n",
    "    for j in range (0,3):\n",
    "        array[i][j] = rnd.uniform(0,1)\n",
    "\n",
    "#Prints the array before adding white\n",
    "print(array,'\\n')\n",
    "#Calls the WhiteWash function and passes the array in it\n",
    "new_array = WhiteWash (array)\n",
    "#Prints the array after adding white\n",
    "print (new_array)"
   ]
  },
  {
   "cell_type": "code",
   "execution_count": null,
   "metadata": {
    "collapsed": true
   },
   "outputs": [],
   "source": [
    "\n"
   ]
  }
 ],
 "metadata": {
  "kernelspec": {
   "display_name": "Python 3",
   "language": "python",
   "name": "python3"
  },
  "language_info": {
   "codemirror_mode": {
    "name": "ipython",
    "version": 3
   },
   "file_extension": ".py",
   "mimetype": "text/x-python",
   "name": "python",
   "nbconvert_exporter": "python",
   "pygments_lexer": "ipython3",
   "version": "3.5.0"
  }
 },
 "nbformat": 4,
 "nbformat_minor": 0
}
