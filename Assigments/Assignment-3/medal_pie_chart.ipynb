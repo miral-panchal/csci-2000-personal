{
 "cells": [
  {
   "cell_type": "code",
   "execution_count": 3,
   "metadata": {
    "collapsed": false
   },
   "outputs": [],
   "source": [
    "#Miral Panchal - 100569725\n",
    "#import the required library\n",
    "import matplotlib.pyplot as plt\n",
    "\n",
    "#initializes the size of the plot\n",
    "plt.figure(1, figsize=(10,10))\n",
    "\n",
    "#labels in the plot (countries in the olympics)\n",
    "labels = 'USA','CHN','GBR','RUS','KOR','GER','FRA','ITA','HUN','AUS','OTHER'\n",
    "#how many medals won by each correspoding country\n",
    "medals = [46,38,29,24,13,11,11,8,8,7,107] \n",
    "#colors for each corresponding country\n",
    "colors = ['navy','green','blue','silver','white','turquoise','gold','lightskyblue','orange','magenta','red']\n",
    "\n",
    "#plots a pie chart with the given data\n",
    "plt.pie(medals, labels=labels,colors = colors, autopct='%1.3f%%')\n",
    "#Changes the title of the plot\n",
    "plt.title('2012 Olympic gold medals (100569725)')\n",
    "\n",
    "#displays the pie plot\n",
    "plt.show()"
   ]
  }
 ],
 "metadata": {
  "kernelspec": {
   "display_name": "Python 3",
   "language": "python",
   "name": "python3"
  },
  "language_info": {
   "codemirror_mode": {
    "name": "ipython",
    "version": 3
   },
   "file_extension": ".py",
   "mimetype": "text/x-python",
   "name": "python",
   "nbconvert_exporter": "python",
   "pygments_lexer": "ipython3",
   "version": "3.4.3"
  }
 },
 "nbformat": 4,
 "nbformat_minor": 0
}
