{
 "cells": [
  {
   "cell_type": "code",
   "execution_count": 1,
   "metadata": {
    "collapsed": false
   },
   "outputs": [],
   "source": [
    "#Miral Panchal - 100569725\n",
    "import numpy as np\n",
    "import matplotlib.pyplot as plt\n",
    "\n",
    "#The data in the data file is arranged as a list, with each element seperated by a new line ('\\n')center\n",
    "#So to save the into a list, we need to get rid of the '/n'\n",
    "def getData(f):\n",
    "    #Saving what's in the file into a list\n",
    "    data = [] \n",
    "    for i in f:\n",
    "        #Removing the trailin '\\n' from each element\n",
    "        i = i.rstrip()\n",
    "        #adding the element into the end of the list\n",
    "        data.append (i)\n",
    "    return data\n",
    "\n",
    "\n",
    "#Opening *_temperature_2012.dat to read\n",
    "f_tor = open ('toronto_temperature_2012.dat','r')\n",
    "f_mnt = open ('montreal_temperature_2012.dat','r')\n",
    "f_van = open ('vancouver_temperature_2012.dat','r')\n",
    "\n",
    "#Save the list returned from the function 'getData' into another list\n",
    "data_tor = getData(f_tor)\n",
    "data_mnt = getData(f_mnt)\n",
    "data_van = getData(f_van)\n",
    "\n",
    "#Saving the number of months into a list\n",
    "month = []\n",
    "for i in range (1,13):\n",
    "    month.append(i)\n",
    "\n",
    "#Saving the months of the year in a list (as a string)\n",
    "ticks_months = ['Jan','Feb','Mar','Apr','May','Jun','Jul','Aug','Sep','Oct','Nov','Dec']\n",
    "\n",
    "#Sets the title of the graph\n",
    "plt.title('2012 average monthly tempratures (100569725)')\n",
    "#Sets the y-axis label of the graph\n",
    "plt.ylabel('Average Monthly Temperature (C)')\n",
    "#Sets the x-axis label of the graph (in numbers)\n",
    "plt.xlabel('Month')\n",
    "#Changes the x-axis ticks to be the months as strings\n",
    "plt.xticks(month, ticks_months)\n",
    "\n",
    "#plots the data for Toronto\n",
    "plt.plot(month, data_tor, marker='o' ,label = 'Toronto')\n",
    "#plots the data for Montreal\n",
    "plt.plot(month, data_mnt, marker='s' ,label = 'Montreal')\n",
    "#plots the data for Vancouver\n",
    "plt.plot(month, data_van, marker='^' ,label ='Vancouver')\n",
    "\n",
    "#Shows the legend in the upper right of the graph\n",
    "legend = plt.legend(loc='upper right')\n",
    "\n",
    "#Displays the final graph\n",
    "plt.show()"
   ]
  }
 ],
 "metadata": {
  "kernelspec": {
   "display_name": "Python 3",
   "language": "python",
   "name": "python3"
  },
  "language_info": {
   "codemirror_mode": {
    "name": "ipython",
    "version": 3
   },
   "file_extension": ".py",
   "mimetype": "text/x-python",
   "name": "python",
   "nbconvert_exporter": "python",
   "pygments_lexer": "ipython3",
   "version": "3.4.3"
  }
 },
 "nbformat": 4,
 "nbformat_minor": 0
}
