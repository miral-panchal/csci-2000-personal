{
 "cells": [
  {
   "cell_type": "code",
   "execution_count": 3,
   "metadata": {
    "collapsed": false
   },
   "outputs": [
    {
     "name": "stdout",
     "output_type": "stream",
     "text": [
      "when n =    10,      rho_n = 3.0418396189294032\n",
      "when n =    10,      tau_n = 3.04936163598207\n",
      "when n =    10,       mu_n = 3.1413846224669713\n"
     ]
    }
   ],
   "source": [
    "#Miral Panchal - 100569725\n",
    "\n",
    "#solving for rho_n\n",
    "def rho(n):\n",
    "    rho_n = 0\n",
    "    k = 1\n",
    "    for i in range (1,n+1):\n",
    "        rho_n += (((-1)**(k+1))/(2*i-1))\n",
    "        k+=1    \n",
    "    rho_n = 4*rho_n\n",
    "    return(rho_n)\n",
    "\n",
    "#solving for tau_n\n",
    "def tau(n):\n",
    "    tau_n = 0\n",
    "    for i in range (1,n+1):\n",
    "        tau_n += ((1)/(i**2))\n",
    "    tau_n = (6*tau_n)**(0.5)\n",
    "    return(tau_n)\n",
    "\n",
    "#solving for mu_n\n",
    "def mu(n):\n",
    "    mu_n = 0\n",
    "    for i in range (1,n+1):\n",
    "        mu_n += ((1)/(i**4)) \n",
    "    mu_n = (90*mu_n)**(0.25) \n",
    "    return(mu_n)\n",
    "\n",
    "rho_n = rho(10)\n",
    "tau_n = tau(10)\n",
    "mu_n = mu(10)\n",
    "\n",
    "print ('when n =    %d,      rho_n = %r' %(10,rho_n))\n",
    "print ('when n =    %d,      tau_n = %r' %(10,tau_n))\n",
    "print ('when n =    %d,       mu_n = %r' %(10,mu_n))\n"
   ]
  }
 ],
 "metadata": {
  "kernelspec": {
   "display_name": "Python 3",
   "language": "python",
   "name": "python3"
  },
  "language_info": {
   "codemirror_mode": {
    "name": "ipython",
    "version": 3
   },
   "file_extension": ".py",
   "mimetype": "text/x-python",
   "name": "python",
   "nbconvert_exporter": "python",
   "pygments_lexer": "ipython3",
   "version": "3.4.3"
  }
 },
 "nbformat": 4,
 "nbformat_minor": 0
}
