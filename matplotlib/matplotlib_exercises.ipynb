{
 "cells": [
  {
   "cell_type": "markdown",
   "metadata": {
    "slideshow": {
     "slide_type": "slide"
    }
   },
   "source": [
    "# Matplotlib Exercises\n",
    "Here are some ploting exercises, try to do them using the provided hints (5 min for each)."
   ]
  },
  {
   "cell_type": "markdown",
   "metadata": {},
   "source": [
    "### Making matplotlib inline\n",
    "First we need to make matplotlib inline in order to embed plots into the web page:"
   ]
  },
  {
   "cell_type": "code",
   "execution_count": 4,
   "metadata": {
    "collapsed": true
   },
   "outputs": [],
   "source": [
    "%matplotlib inline"
   ]
  },
  {
   "cell_type": "markdown",
   "metadata": {},
   "source": [
    "### Importing necessary modules\n",
    "We just import `numpy` and `pyplot` once to prevent redundancy for the rest of exercises:"
   ]
  },
  {
   "cell_type": "code",
   "execution_count": 3,
   "metadata": {
    "collapsed": true
   },
   "outputs": [],
   "source": [
    "import numpy as np\n",
    "import matplotlib.pyplot as plt"
   ]
  },
  {
   "cell_type": "markdown",
   "metadata": {},
   "source": [
    "## Regular Plot\n",
    "<img style=\"float: right;\" src=\"images/plot_ex.png\" />\n",
    "Starting from the code below, try to reproduce the graphic on the right taking care of filled areas:\n",
    "```python\n",
    "n = 256\n",
    "X = np.linspace(-np.pi,np.pi,n,endpoint=True)\n",
    "Y = np.sin(2*X)\n",
    "\n",
    "plt.plot (X, Y+1, color='blue', alpha=1.00)\n",
    "plt.plot (X, Y-1, color='blue', alpha=1.00)\n",
    "plt.show()\n",
    "```\n",
    "### _Hints_\n",
    "You need to use the [fill_between](http://matplotlib.sourceforge.net/api/pyplot_api.html#matplotlib.pyplot.fill_between) command."
   ]
  },
  {
   "cell_type": "markdown",
   "metadata": {},
   "source": [
    "## Scatter Plot\n",
    "\n",
    "<img style=\"float: right;\" src=\"images/scatter_ex.png\" />\n",
    "Starting from the code below, try to reproduce the graphic on the right taking care of marker size, color and transparency.\n",
    "\n",
    "```python\n",
    "n = 1024\n",
    "X = np.random.normal(0,1,n)\n",
    "Y = np.random.normal(0,1,n)\n",
    "\n",
    "plt.scatter(X,Y)\n",
    "plt.show()\n",
    "```\n",
    "\n",
    "### _Hints_\n",
    "Color is given by angle of (X,Y).\n"
   ]
  },
  {
   "cell_type": "markdown",
   "metadata": {},
   "source": [
    "## Bar Plot\n",
    "\n",
    "<img style=\"float: right;\" src=\"images/bar_ex.png\" />\n",
    "Starting from the code below, try to reproduce the graphic on the right by adding labels for red bars.\n",
    "\n",
    "```python\n",
    "n = 12\n",
    "X = np.arange(n)\n",
    "Y1 = (1-X/float(n)) * np.random.uniform(0.5,1.0,n)\n",
    "Y2 = (1-X/float(n)) * np.random.uniform(0.5,1.0,n)\n",
    "\n",
    "plt.bar(X, +Y1, facecolor='#9999ff', edgecolor='white')\n",
    "plt.bar(X, -Y2, facecolor='#ff9999', edgecolor='white')\n",
    "\n",
    "for x,y in zip(X,Y1):\n",
    "    plt.text(x+0.4, y+0.05, '%.2f' % y, ha='center', va= 'bottom')\n",
    "\n",
    "plt.ylim(-1.25,+1.25)\n",
    "plt.show()\n",
    "```\n",
    "\n",
    "### _Hints_\n",
    "You need to take care of text alignment."
   ]
  },
  {
   "cell_type": "code",
   "execution_count": 27,
   "metadata": {
    "collapsed": false
   },
   "outputs": [
    {
     "data": {
      "image/png": "[encoded data removed]",
      "text/plain": [
       "<matplotlib.figure.Figure at 0x7fa2fed80d30>"
      ]
     },
     "metadata": {},
     "output_type": "display_data"
    }
   ],
   "source": [
    "\n",
    "n = 12\n",
    "X = np.arange(n)\n",
    "Y1 = (1-X/float(n)) * np.random.uniform(0.5,1.0,n)\n",
    "Y2 = (1-X/float(n)) * np.random.uniform(0.5,1.0,n)\n",
    "\n",
    "plt.bar(X, +Y1, facecolor='#9999ff', edgecolor='white')\n",
    "plt.bar(X, -Y2, facecolor='#ff9999', edgecolor='white')\n",
    "\n",
    "for x,y in zip(X,Y1):\n",
    "    plt.text(x+0.4, y+0.05, '%.2f' % y, ha='center', va= 'bottom')\n",
    "for x,y in zip(X,Y2):\n",
    "    plt.text(x+0.4, -y-0.05, '%.2f' % y, ha='center', va= 'top')\n",
    "\n",
    "plt.xticks([])\n",
    "    \n",
    "plt.ylim(-1.25,+1.25)\n",
    "plt.show()"
   ]
  },
  {
   "cell_type": "markdown",
   "metadata": {},
   "source": [
    "## Contour Plot\n",
    "\n",
    "<img style=\"float: right;\" src=\"images/contour_ex.png\" />\n",
    "Starting from the code below, try to reproduce the graphic on the right taking care of the colormap (see Colormaps below).\n",
    "\n",
    "```python\n",
    "def f(x,y): return (1-x/2+x**5+y**3)*np.exp(-x**2-y**2)\n",
    "\n",
    "n = 256\n",
    "x = np.linspace(-3,3,n)\n",
    "y = np.linspace(-3,3,n)\n",
    "X,Y = np.meshgrid(x,y)\n",
    "\n",
    "plt.contourf(X, Y, f(X,Y), 8, alpha=.75, cmap='jet')\n",
    "C = plt.contour(X, Y, f(X,Y), 8, colors='black', linewidth=.5)\n",
    "plt.show()\n",
    "```\n",
    "\n",
    "### _Hints_\n",
    "You need to use the [clabel](http://matplotlib.sourceforge.net/api/pyplot_api.html#matplotlib.pyplot.clabel) command."
   ]
  },
  {
   "cell_type": "code",
   "execution_count": 28,
   "metadata": {
    "collapsed": false
   },
   "outputs": [
    {
     "data": {
      "image/png": "[encoded data removed]",
      "text/plain": [
       "<matplotlib.figure.Figure at 0x7fa2feca0668>"
      ]
     },
     "metadata": {},
     "output_type": "display_data"
    }
   ],
   "source": [
    "def f(x,y): return (1-x/2+x**5+y**3)*np.exp(-x**2-y**2)\n",
    "\n",
    "n = 256\n",
    "x = np.linspace(-3,3,n)\n",
    "y = np.linspace(-3,3,n)\n",
    "X,Y = np.meshgrid(x,y)\n",
    "\n",
    "plt.contourf(X, Y, f(X,Y), 8, alpha=.75, cmap='jet')\n",
    "C = plt.contour(X, Y, f(X,Y), 8, colors='black', linewidth=.5)\n",
    "plt.show()"
   ]
  },
  {
   "cell_type": "markdown",
   "metadata": {},
   "source": [
    "## Imshow\n",
    "\n",
    "<img style=\"float: right;\" src=\"images/imshow_ex.png\" />\n",
    "Starting from the code below, try to reproduce the graphic on the right taking care of colormap, image interpolation and origin.\n",
    "\n",
    "```python\n",
    "def f(x,y): return (1-x/2+x**5+y**3)*np.exp(-x**2-y**2)\n",
    "\n",
    "n = 10\n",
    "x = np.linspace(-3,3,4*n)\n",
    "y = np.linspace(-3,3,3*n)\n",
    "X,Y = np.meshgrid(x,y)\n",
    "plt.imshow(f(X,Y))\n",
    "plt.show()\n",
    "```\n",
    "\n",
    "### _Hints_\n",
    "You need to take care of the `origin` of the image in the imshow command and use a [colorbar](http://matplotlib.sourceforge.net/api/pyplot_api.html#matplotlib.pyplot.colorbar).\n"
   ]
  },
  {
   "cell_type": "markdown",
   "metadata": {},
   "source": [
    "## Pie Chart\n",
    "\n",
    "<img style=\"float: right;\" src=\"images/pie_ex.png\" />\n",
    "Starting from the code below, try to reproduce the graphic on the right taking care of colors and slices size.\n",
    "\n",
    "```python\n",
    "n = 20\n",
    "Z = np.random.uniform(0,1,n)\n",
    "plt.pie(Z)\n",
    "plt.show()\n",
    "```\n",
    "\n",
    "### _Hints_\n",
    "You need to modify Z."
   ]
  },
  {
   "cell_type": "markdown",
   "metadata": {},
   "source": [
    "## Quiver Plot\n",
    "\n",
    "<img style=\"float: right;\" src=\"images/quiver_ex.png\" />\n",
    "Starting from the code above, try to reproduce the graphic on the right taking care of colors and orientations.\n",
    "\n",
    "```python\n",
    "n = 8\n",
    "X,Y = np.mgrid[0:n,0:n]\n",
    "plt.quiver(X,Y)\n",
    "plt.show()\n",
    "```\n",
    "\n",
    "### _Hints_\n",
    "You need to draw arrows twice."
   ]
  },
  {
   "cell_type": "markdown",
   "metadata": {},
   "source": [
    "## Grid\n",
    "\n",
    "<img style=\"float: right;\" src=\"images/grid_ex.png\" />\n",
    "Starting from the code below, try to reproduce the graphic on the right taking care of line styles.\n",
    "\n",
    "```python\n",
    "axes = plt.gca()\n",
    "axes.set_xlim(0,4)\n",
    "axes.set_ylim(0,3)\n",
    "axes.set_xticklabels([])\n",
    "axes.set_yticklabels([])\n",
    "\n",
    "plt.show()\n",
    "```"
   ]
  },
  {
   "cell_type": "markdown",
   "metadata": {},
   "source": [
    "## Multi Plot\n",
    "\n",
    "<img style=\"float: right;\" src=\"images/multiplot_ex.png\" />\n",
    "Starting from the code below, try to reproduce the graphic on the right.\n",
    "\n",
    "```python\n",
    "plt.subplot(2,2,1)\n",
    "plt.subplot(2,2,3)\n",
    "plt.subplot(2,2,4)\n",
    "\n",
    "plt.show()\n",
    "```\n",
    "\n",
    "### _Hints_\n",
    "You can use several subplots with different partition."
   ]
  },
  {
   "cell_type": "markdown",
   "metadata": {},
   "source": [
    "## Polar Axis\n",
    "\n",
    "<img style=\"float: right;\" src=\"images/polar_ex.png\" />\n",
    "Starting from the code below, try to reproduce the graphic on the right.\n",
    "\n",
    "```python\n",
    "plt.axes([0,0,1,1])\n",
    "\n",
    "N = 20\n",
    "theta = np.arange(0.0, 2*np.pi, 2*np.pi/N)\n",
    "radii = 10*np.random.rand(N)\n",
    "width = np.pi/4*np.random.rand(N)\n",
    "bars = plt.bar(theta, radii, width=width, bottom=0.0)\n",
    "\n",
    "for r,bar in zip(radii, bars):\n",
    "    bar.set_facecolor(plt.cm.jet(r/10.))\n",
    "    bar.set_alpha(0.5)\n",
    "\n",
    "plt.show()\n",
    "```\n",
    "\n",
    "### _Hints_\n",
    "You only need to modify the axes line."
   ]
  },
  {
   "cell_type": "markdown",
   "metadata": {},
   "source": [
    "## 3D Plot\n",
    "\n",
    "<img style=\"float: right;\" src=\"images/plot3d_ex.png\" />\n",
    "Starting from the code below, try to reproduce the graphic on the right.\n",
    "\n",
    "```python\n",
    "from mpl_toolkits.mplot3d import Axes3D\n",
    "\n",
    "fig = plt.figure()\n",
    "ax = Axes3D(fig)\n",
    "X = np.arange(-4, 4, 0.25)\n",
    "Y = np.arange(-4, 4, 0.25)\n",
    "X, Y = np.meshgrid(X, Y)\n",
    "R = np.sqrt(X**2 + Y**2)\n",
    "Z = np.sin(R)\n",
    "\n",
    "ax.plot_surface(X, Y, Z, rstride=1, cstride=1, cmap='hot')\n",
    "\n",
    "plt.show()\n",
    "```\n",
    "\n",
    "### _Hints_\n",
    "You need to use [contourf](http://matplotlib.sourceforge.net/api/pyplot_api.html#matplotlib.pyplot.contourf)."
   ]
  },
  {
   "cell_type": "markdown",
   "metadata": {},
   "source": [
    "## Text\n",
    "\n",
    "<img style=\"float: right;\" src=\"images/text_ex.png\" />\n",
    "Try to do the same from scratch!\n",
    "\n",
    "### _Hints_\n",
    "Have a look at the [matplotlib logo](http://matplotlib.sourceforge.net/examples/api/logo2.html)."
   ]
  }
 ],
 "metadata": {
  "kernelspec": {
   "display_name": "Python 3",
   "language": "python",
   "name": "python3"
  },
  "language_info": {
   "codemirror_mode": {
    "name": "ipython",
    "version": 3
   },
   "file_extension": ".py",
   "mimetype": "text/x-python",
   "name": "python",
   "nbconvert_exporter": "python",
   "pygments_lexer": "ipython3",
   "version": "3.4.3"
  }
 },
 "nbformat": 4,
 "nbformat_minor": 0
}
